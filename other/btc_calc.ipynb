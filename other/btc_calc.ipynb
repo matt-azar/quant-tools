{
 "cells": [
  {
   "cell_type": "code",
   "execution_count": null,
   "metadata": {},
   "outputs": [],
   "source": [
    "import crypto_tools as qt\n",
    "\n",
    "# time T\n",
    "year = 2025; month = 1; day = 1; hour = 0\n",
    "T = qt.get_T(year, month, day, hour)\n",
    "\n",
    "S0_btc = qt.get_btc_price()\n",
    "K_btc = 100_000\n",
    "sigma_btc = qt.calculate_annualized_volatility(qt.get_historical_btc_prices())\n",
    "r = 0.04\n",
    "\n",
    "P_above_btc = qt.calculate_P_above(S0_btc, K_btc, sigma_btc, r, T)\n",
    "qt.print_P_above(P_above_btc, S0_btc, K_btc, sigma_btc, T)\n",
    "\n",
    "S0_eth = qt.get_eth_price()\n",
    "K_eth = 2_560\n",
    "sigma_eth = qt.calculate_annualized_volatility(qt.get_historical_eth_prices())\n",
    "r = 0.04\n",
    "\n",
    "P_above_eth = qt.calculate_P_above(S0_eth, K_eth, sigma_eth, r, T)\n",
    "print()\n",
    "qt.print_P_above(P_above_eth, S0_eth, K_eth, sigma_eth, T, ETH=True)"
   ]
  }
 ],
 "metadata": {
  "kernelspec": {
   "display_name": "Python 3",
   "language": "python",
   "name": "python3"
  },
  "language_info": {
   "codemirror_mode": {
    "name": "ipython",
    "version": 3
   },
   "file_extension": ".py",
   "mimetype": "text/x-python",
   "name": "python",
   "nbconvert_exporter": "python",
   "pygments_lexer": "ipython3",
   "version": "3.10.12"
  }
 },
 "nbformat": 4,
 "nbformat_minor": 2
}
