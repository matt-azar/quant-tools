{
 "cells": [
  {
   "cell_type": "code",
   "execution_count": 2,
   "metadata": {},
   "outputs": [
    {
     "name": "stdout",
     "output_type": "stream",
     "text": [
      "Date - time:\t 2024-11-13 14:24:37.152424-05:00\n",
      "Hours to T:\t 417.304\n",
      "\n",
      "BTC price:\t 91,059\n",
      "Strike price:\t 100,000\n",
      "Volatility:\t 0.5294\n",
      "P(above):\t 0.1971\n",
      "\n",
      "Date - time:\t 2024-11-13 14:24:37.629429-05:00\n",
      "Hours to T:\t 417.304\n",
      "\n",
      "ETH price:\t 3,228.96\n",
      "Strike price:\t 2,560\n",
      "Volatility:\t 0.6251\n",
      "P(above):\t 0.9502\n"
     ]
    }
   ],
   "source": [
    "import crypto_tools as qt\n",
    "\n",
    "# time T\n",
    "year = 2024; month = 12; day = 1; hour = 0\n",
    "T = qt.get_T(year, month, day, hour)\n",
    "\n",
    "S0_btc = qt.get_btc_price()\n",
    "K_btc = 100_000\n",
    "sigma_btc = qt.calculate_annualized_volatility(qt.get_historical_btc_prices())\n",
    "r = 0.04\n",
    "\n",
    "P_above_btc = qt.calculate_P_above(S0_btc, K_btc, sigma_btc, r, T)\n",
    "qt.print_P_above(P_above_btc, S0_btc, K_btc, sigma_btc, T)\n",
    "\n",
    "S0_eth = qt.get_eth_price()\n",
    "K_eth = 2_560\n",
    "sigma_eth = qt.calculate_annualized_volatility(qt.get_historical_eth_prices())\n",
    "r = 0.04\n",
    "\n",
    "P_above_eth = qt.calculate_P_above(S0_eth, K_eth, sigma_eth, r, T)\n",
    "print()\n",
    "qt.print_P_above(P_above_eth, S0_eth, K_eth, sigma_eth, T, ETH=True)"
   ]
  }
 ],
 "metadata": {
  "kernelspec": {
   "display_name": "Python 3",
   "language": "python",
   "name": "python3"
  },
  "language_info": {
   "codemirror_mode": {
    "name": "ipython",
    "version": 3
   },
   "file_extension": ".py",
   "mimetype": "text/x-python",
   "name": "python",
   "nbconvert_exporter": "python",
   "pygments_lexer": "ipython3",
   "version": "3.10.12"
  }
 },
 "nbformat": 4,
 "nbformat_minor": 2
}
