{
 "cells": [
  {
   "cell_type": "code",
   "execution_count": 22,
   "metadata": {},
   "outputs": [
    {
     "data": {
      "text/plain": [
       "0.27687611526838335"
      ]
     },
     "execution_count": 22,
     "metadata": {},
     "output_type": "execute_result"
    }
   ],
   "source": [
    "import math\n",
    "import pandas as pd\n",
    "import numpy as np\n",
    "import sympy as sp\n",
    "import random as rd\n",
    "from scipy.stats import norm\n",
    "import matplotlib.pyplot as plt\n",
    "from scipy.optimize import brentq\n",
    "\n",
    "S0 = 100   # Current stock price in USD\n",
    "K =  105   # Strike price in USD\n",
    "T =  1/12  # Time to expiration in years\n",
    "C =  1.45  # Market price of the call option\n",
    "r =  0.04  # Risk-free rate assumption\n",
    "\n",
    "def black_scholes_call_price(S0, K, T, r, sigma):\n",
    "    d1 = (np.log(S0 / K) + (r + sigma**2 / 2) * T) / (sigma * np.sqrt(T))\n",
    "    d2 = d1 - sigma * np.sqrt(T)\n",
    "    call_price = S0 * norm.cdf(d1) - K * np.exp(-r * T) * norm.cdf(d2)\n",
    "    return call_price\n",
    "\n",
    "def implied_volatility(S0, K, T, r, C_market):\n",
    "    f = lambda sigma: black_scholes_call_price(S0, K, T, r, sigma) - C_market\n",
    "    sigma_implied = brentq(f, 0.001, 10)  # Bracket the volatility between 0.1% and 1000%\n",
    "    return sigma_implied\n",
    "\n",
    "implied_vol = implied_volatility(S0, K, T, r, C)\n",
    "\n",
    "implied_vol"
   ]
  }
 ],
 "metadata": {
  "kernelspec": {
   "display_name": "Python 3",
   "language": "python",
   "name": "python3"
  },
  "language_info": {
   "codemirror_mode": {
    "name": "ipython",
    "version": 3
   },
   "file_extension": ".py",
   "mimetype": "text/x-python",
   "name": "python",
   "nbconvert_exporter": "python",
   "pygments_lexer": "ipython3",
   "version": "3.10.12"
  }
 },
 "nbformat": 4,
 "nbformat_minor": 2
}
