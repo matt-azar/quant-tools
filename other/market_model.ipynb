{
 "cells": [
  {
   "cell_type": "code",
   "execution_count": 85,
   "metadata": {},
   "outputs": [
    {
     "data": {
      "image/png": "[encoded data removed]",
      "text/plain": [
       "<Figure size 432x288 with 1 Axes>"
      ]
     },
     "metadata": {
      "needs_background": "light"
     },
     "output_type": "display_data"
    }
   ],
   "source": [
    "import matplotlib.pyplot as plt\n",
    "import numpy as np\n",
    "\n",
    "class Market:\n",
    "    def __init__(self, initial_price, liquidity):\n",
    "        \"\"\"\n",
    "        Initialize the market with an initial price and liquidity.\n",
    "        \n",
    "        :param initial_price: The starting price of the security.\n",
    "        :param liquidity: A parameter controlling how much the price is affected by trades.\n",
    "                          Higher liquidity means smaller price changes.\n",
    "        \"\"\"\n",
    "        self.price = initial_price\n",
    "        self.liquidity = liquidity\n",
    "        self.history = [initial_price]\n",
    "\n",
    "    def buy(self, shares):\n",
    "        \"\"\"\n",
    "        Simulate a buy order.\n",
    "        \n",
    "        :param shares: The number of shares bought.\n",
    "        \"\"\"\n",
    "        # Buying increases the price\n",
    "        price_impact = shares / self.liquidity\n",
    "        self.price *= 1 + price_impact\n",
    "        self.history.append(self.price)\n",
    "\n",
    "    def sell(self, shares):\n",
    "        \"\"\"\n",
    "        Simulate a sell order.\n",
    "        \n",
    "        :param shares: The number of shares sold.\n",
    "        \"\"\"\n",
    "        price_impact = shares / self.liquidity\n",
    "        self.price *= 1 - price_impact\n",
    "        self.history.append(self.price)\n",
    "\n",
    "    def get_price(self):\n",
    "        return self.price\n",
    "        \n",
    "    def get_liquidity(self):\n",
    "        return self.liquidity  \n",
    "\n",
    "    def plot_price_history(self):\n",
    "        \"\"\"\n",
    "        Plot the price history to visualize the effect of trades on the security's price.\n",
    "        \"\"\"\n",
    "        plt.plot(self.history)\n",
    "        plt.title(\"Security Price Over Time\")\n",
    "        plt.xlabel(\"Transaction Number\")\n",
    "        plt.ylabel(\"Price\")\n",
    "        plt.grid(True)\n",
    "        plt.show()\n",
    "\n",
    "initial_price = 100\n",
    "liquidity     = 1_000_000\n",
    "\n",
    "market = Market(initial_price, liquidity)\n",
    "\n",
    "# np.random.seed(1)\n",
    "num_trades  = 100_000\n",
    "trade_sizes = np.ceil(np.random.lognormal(2, 2, num_trades)) #TODO: investigate distribution of buy/sell order sizes\n",
    "buy_or_sell = np.random.choice(['buy', 'sell'], num_trades)\n",
    "\n",
    "for i in range(num_trades):\n",
    "    if buy_or_sell[i] == 'buy':\n",
    "        market.buy(trade_sizes[i])\n",
    "    else:\n",
    "        market.sell(trade_sizes[i])\n",
    "\n",
    "market.plot_price_history()\n"
   ]
  },
  {
   "cell_type": "code",
   "execution_count": 44,
   "metadata": {},
   "outputs": [
    {
     "name": "stdout",
     "output_type": "stream",
     "text": [
      "76.87411632521875\n",
      "1000\n"
     ]
    }
   ],
   "source": [
    "l = market.get_liquidity()\n",
    "\n",
    "market.sell(l / 10)\n",
    "# market.buy(l / 10)\n",
    "\n",
    "\n",
    "print(market.get_price())\n",
    "print(market.get_liquidity())"
   ]
  }
 ],
 "metadata": {
  "kernelspec": {
   "display_name": "Python 3",
   "language": "python",
   "name": "python3"
  },
  "language_info": {
   "codemirror_mode": {
    "name": "ipython",
    "version": 3
   },
   "file_extension": ".py",
   "mimetype": "text/x-python",
   "name": "python",
   "nbconvert_exporter": "python",
   "pygments_lexer": "ipython3",
   "version": "3.10.12"
  }
 },
 "nbformat": 4,
 "nbformat_minor": 2
}
