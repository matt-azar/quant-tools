{
 "cells": [
  {
   "cell_type": "code",
   "execution_count": 16,
   "metadata": {},
   "outputs": [
    {
     "name": "stdout",
     "output_type": "stream",
     "text": [
      "For 1234 contracts at price $0.99 ea., total fees = $0.86.\n",
      "Total price = 1234($0.99) + $0.86 = $1222.52.\n"
     ]
    }
   ],
   "source": [
    "from numpy import ceil\n",
    "\n",
    "def compute_fees(price, contracts):\n",
    "    fees = 0.07 * contracts * price * (1 - price)\n",
    "    fees = ceil(fees * 100)\n",
    "    fees /= 100\n",
    "    return fees\n",
    "\n",
    "p = 0.99\n",
    "c = 1234\n",
    "\n",
    "fees = compute_fees(p, c)\n",
    "\n",
    "print(f\"For {c} contracts at price ${p} ea., total fees = ${fees:.2f}.\")\n",
    "print(f\"Total price = {c}(${p}) + ${fees} = ${c*p+fees}.\")"
   ]
  }
 ],
 "metadata": {
  "kernelspec": {
   "display_name": "Python 3",
   "language": "python",
   "name": "python3"
  },
  "language_info": {
   "codemirror_mode": {
    "name": "ipython",
    "version": 3
   },
   "file_extension": ".py",
   "mimetype": "text/x-python",
   "name": "python",
   "nbconvert_exporter": "python",
   "pygments_lexer": "ipython3",
   "version": "3.10.12"
  }
 },
 "nbformat": 4,
 "nbformat_minor": 2
}
