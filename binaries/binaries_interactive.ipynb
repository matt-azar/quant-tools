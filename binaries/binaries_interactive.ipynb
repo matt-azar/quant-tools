{
 "cells": [
  {
   "cell_type": "markdown",
   "metadata": {},
   "source": [
    "$$\n",
    "C_K(., T) = \\mathbb{E} [\\max(S-K,\\ 0)]\n",
    "$$\n",
    "\n",
    "$$\n",
    "C_K = \\int_{K}^{\\infty} (S-K)\\ \\phi(S) dS \n",
    "$$\n",
    "\n",
    "$$\n",
    "S_T = S_{t_0} \\exp{\\left[\\left(\\mu - \\frac{1}{2} \\sigma^2 \\right)t + \\sigma \\sqrt{t}\\, Z \\right]}\n",
    "$$\n",
    "\n",
    "$ Z \\sim \\mathbf{N}(0,1)$"
   ]
  },
  {
   "cell_type": "markdown",
   "metadata": {},
   "source": [
    "$$\n",
    "\\Large \\vartheta\n",
    "$$"
   ]
  },
  {
   "cell_type": "code",
   "execution_count": 1,
   "metadata": {},
   "outputs": [
    {
     "name": "stdout",
     "output_type": "stream",
     "text": [
      "^GSPC current price: 6006.63 (01/28/25 09:42:15)\n",
      "\n",
      "Daily Vol:       0.897%, (S0 +/- 53.85)\n",
      "Historical Vol:  14.23%\n",
      "GARCH Vol:       15.19%\n",
      "VIX:             17.73\n"
     ]
    }
   ],
   "source": [
    "from main import *\n",
    "from binaries import *\n",
    "\n",
    "tau = None\n",
    "\n",
    "ticker = \"^GSPC\"\n",
    "print(f\"{ticker} current price: {price(ticker):.2f} ({datetime.now():%D %T})\\n\")\n",
    "main(info_only=True, tau=tau)"
   ]
  },
  {
   "cell_type": "code",
   "execution_count": 2,
   "metadata": {},
   "outputs": [
    {
     "name": "stdout",
     "output_type": "stream",
     "text": [
      "1.201056494800507\n",
      "0.0011586505692740001\n"
     ]
    },
    {
     "data": {
      "text/plain": [
       "0.17845864599163727"
      ]
     },
     "execution_count": 2,
     "metadata": {},
     "output_type": "execute_result"
    }
   ],
   "source": [
    "print(get_VoV())\n",
    "\n",
    "sigma = price('^VIX') / 100\n",
    "stochastic_vol(sigma)"
   ]
  },
  {
   "cell_type": "code",
   "execution_count": 3,
   "metadata": {},
   "outputs": [
    {
     "name": "stdout",
     "output_type": "stream",
     "text": [
      "^GSPC current price: 6006.63 (01/28/25 09:42:16)\n",
      "\n",
      "K=5925\n",
      "Above: 99.80%\n",
      "Below: 0.20%\n",
      "\n",
      "K=6100\n",
      "Above: 0.06%\n",
      "Below: 99.94%\n",
      "\n",
      "Hours to T: 6.295 (close=16)\n"
     ]
    }
   ],
   "source": [
    "ticker = '^GSPC'\n",
    "\n",
    "K = [\n",
    "    5925,\n",
    "    6100,\n",
    "]\n",
    "\n",
    "print(f\"{ticker} current price: {price(ticker):.2f} ({datetime.now():%D %T})\\n\")\n",
    "\n",
    "\n",
    "for k in K:\n",
    "    print(f\"K={k}\")\n",
    "    main(ticker, k, tau=tau, print_tau=False)\n",
    "    print()\n",
    "\n",
    "main(print_tau=True)    "
   ]
  },
  {
   "cell_type": "code",
   "execution_count": 4,
   "metadata": {},
   "outputs": [
    {
     "name": "stdout",
     "output_type": "stream",
     "text": [
      "^NDX current price: 21061.45 (01/28/25 09:42:17)\n",
      "\n",
      "K=21000\n",
      "Above: 65.92%\n",
      "Below: 34.08%\n",
      "\n",
      "K=21200\n",
      "Above: 17.90%\n",
      "Below: 82.10%\n",
      "\n",
      "K=21400\n",
      "Above: 1.27%\n",
      "Below: 98.73%\n",
      "\n",
      "K=21600\n",
      "Above: 0.02%\n",
      "Below: 99.98%\n",
      "\n",
      "Hours to T: 6.295 (close=16)\n",
      "\n",
      "Daily Vol:       1.343%, (S0 +/- 282.96)\n",
      "Historical Vol:  21.33%\n",
      "GARCH Vol:       23.59%\n",
      "VIX:             17.73\n"
     ]
    }
   ],
   "source": [
    "ticker = '^NDX'\n",
    "\n",
    "K = [\n",
    "    21000,\n",
    "    21200,\n",
    "    21400,\n",
    "    21600\n",
    "]\n",
    "\n",
    "print(f\"{ticker} current price: {price(ticker):.2f} ({datetime.now():%D %T})\\n\")\n",
    "\n",
    "for k in K:\n",
    "    print(f\"K={k}\")\n",
    "    main(ticker, k, tau=tau, print_tau=False)\n",
    "    print()\n",
    "\n",
    "main(print_tau=True)  \n",
    "\n",
    "print()\n",
    "main(ticker, abbrev=True, info_only=True)"
   ]
  },
  {
   "cell_type": "code",
   "execution_count": 5,
   "metadata": {},
   "outputs": [
    {
     "name": "stderr",
     "output_type": "stream",
     "text": [
      "\n",
      "1 Failed download:\n",
      "['BTC-USD']: YFPricesMissingError('$%ticker%: possibly delisted; no price data found  (period=1d)')\n"
     ]
    },
    {
     "name": "stdout",
     "output_type": "stream",
     "text": [
      "BTC-USD current price: 102671.69 (01/28/25 09:42:20)\n",
      "\n",
      "K=96000\n"
     ]
    },
    {
     "name": "stderr",
     "output_type": "stream",
     "text": [
      "\n",
      "1 Failed download:\n",
      "['BTC-USD']: YFPricesMissingError('$%ticker%: possibly delisted; no price data found  (period=1d)')\n"
     ]
    },
    {
     "name": "stdout",
     "output_type": "stream",
     "text": [
      "Above: 100.00%\n",
      "Below: 0.00%\n",
      "\n",
      "K=96500\n"
     ]
    },
    {
     "name": "stderr",
     "output_type": "stream",
     "text": [
      "\n",
      "1 Failed download:\n",
      "['BTC-USD']: YFPricesMissingError('$%ticker%: possibly delisted; no price data found  (period=1d)')\n"
     ]
    },
    {
     "name": "stdout",
     "output_type": "stream",
     "text": [
      "Above: 100.00%\n",
      "Below: 0.00%\n",
      "\n",
      "K=97000\n",
      "Above: 100.00%\n",
      "Below: 0.00%\n",
      "\n"
     ]
    },
    {
     "name": "stderr",
     "output_type": "stream",
     "text": [
      "\n",
      "1 Failed download:\n",
      "['BTC-USD']: YFPricesMissingError('$%ticker%: possibly delisted; no price data found  (period=1d)')\n"
     ]
    },
    {
     "name": "stdout",
     "output_type": "stream",
     "text": [
      "Hours to T: 0.294 (close=10)\n",
      "\n",
      "Daily Vol:       2.273%, (S0 +/- 2333.78)\n",
      "Historical Vol:  36.08%\n",
      "VIX:             17.73\n"
     ]
    }
   ],
   "source": [
    "ticker = \"BTC-USD\"\n",
    "\n",
    "close = datetime.now().hour + 1\n",
    "\n",
    "K = [\n",
    "    96000,\n",
    "    96500,\n",
    "    97000\n",
    "]\n",
    "\n",
    "print(f\"{ticker} current price: {cryptoprice():.2f} ({datetime.now():%D %T})\\n\")\n",
    "\n",
    "for k in K:\n",
    "    print(f\"K={k}\")\n",
    "    main(ticker, k, tau=tau, close=close, print_tau=False)\n",
    "    print()\n",
    "\n",
    "main(close=close, print_tau=True)\n",
    "\n",
    "print()\n",
    "main(ticker, info_only=True)\n"
   ]
  },
  {
   "cell_type": "code",
   "execution_count": 6,
   "metadata": {},
   "outputs": [
    {
     "name": "stdout",
     "output_type": "stream",
     "text": [
      "ETH-USD current price: 3160.57 (01/28/25 09:42:24)\n",
      "\n",
      "K=3400\n",
      "Above: 0.00%\n",
      "Below: 100.00%\n",
      "\n",
      "K=3450\n",
      "Above: 0.00%\n",
      "Below: 100.00%\n",
      "\n",
      "K=3500\n",
      "Above: 0.00%\n",
      "Below: 100.00%\n",
      "\n",
      "Hours to T: 0.293 (close=10)\n",
      "\n",
      "Daily Vol:       3.234%, (S0 +/- 102.22)\n",
      "Historical Vol:  51.34%\n",
      "VIX:             17.73\n"
     ]
    }
   ],
   "source": [
    "ticker = \"ETH-USD\"\n",
    "\n",
    "close = datetime.now().hour + 1\n",
    "\n",
    "K = [\n",
    "    3400,\n",
    "    3450,\n",
    "    3500\n",
    "]\n",
    "\n",
    "print(f\"{ticker} current price: {cryptoprice('ETH'):.2f} ({datetime.now():%D %T})\\n\")\n",
    "\n",
    "for k in K:\n",
    "    print(f\"K={k}\")\n",
    "    main(ticker, k, tau=tau, close=close, print_tau=False)\n",
    "    print()\n",
    "\n",
    "main(close=close, print_tau=True)\n",
    "\n",
    "print()\n",
    "main(ticker, info_only=True)"
   ]
  }
 ],
 "metadata": {
  "kernelspec": {
   "display_name": "Python 3",
   "language": "python",
   "name": "python3"
  },
  "language_info": {
   "codemirror_mode": {
    "name": "ipython",
    "version": 3
   },
   "file_extension": ".py",
   "mimetype": "text/x-python",
   "name": "python",
   "nbconvert_exporter": "python",
   "pygments_lexer": "ipython3",
   "version": "3.10.12"
  }
 },
 "nbformat": 4,
 "nbformat_minor": 2
}
