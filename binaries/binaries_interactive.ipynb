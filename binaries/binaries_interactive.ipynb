{
 "cells": [
  {
   "cell_type": "code",
   "execution_count": 47,
   "metadata": {},
   "outputs": [
    {
     "name": "stdout",
     "output_type": "stream",
     "text": [
      "^GSPC current price: 5844.12 (01/02/25 12:45:11)\n",
      "\n",
      "Daily Vol:       0.908%, (S0 +/- 53.06)\n",
      "Historical Vol:  14.41%\n",
      "GARCH Vol:       15.37%\n",
      "VIX:             17.99\n"
     ]
    }
   ],
   "source": [
    "from main import *\n",
    "\n",
    "ttt = None\n",
    "\n",
    "ticker = \"^GSPC\"\n",
    "print(f\"{ticker} current price: {price(ticker):.2f} ({datetime.now():%D %T})\\n\")\n",
    "main(info_only=True, ttt=ttt)"
   ]
  },
  {
   "cell_type": "code",
   "execution_count": 55,
   "metadata": {},
   "outputs": [
    {
     "name": "stdout",
     "output_type": "stream",
     "text": [
      "^GSPC current price: 5869.58 (01/02/25 15:51:27)\n",
      "\n",
      "K=5825\n",
      "Above: 100.00%\n",
      "Below: 0.00%\n",
      "\n",
      "K=5850\n",
      "Above: 100.00%\n",
      "Below: 0.00%\n",
      "\n",
      "K=5900\n",
      "Above: 0.00%\n",
      "Below: 100.00%\n",
      "\n",
      "K=5925\n",
      "Above: 0.00%\n",
      "Below: 100.00%\n",
      "\n",
      "Hours to T: 0.142 (close=16)\n"
     ]
    }
   ],
   "source": [
    "ticker = '^GSPC'\n",
    "\n",
    "K = [\n",
    "    5825,\n",
    "    5850,\n",
    "    5900,\n",
    "    5925\n",
    "]\n",
    "\n",
    "print(f\"{ticker} current price: {price(ticker):.2f} ({datetime.now():%D %T})\\n\")\n",
    "\n",
    "for k in K:\n",
    "    print(f\"K={k}\")\n",
    "    main(ticker, k, ttt=ttt, print_ttt=False)\n",
    "    print()\n",
    "\n",
    "main(print_ttt=True)    "
   ]
  },
  {
   "cell_type": "code",
   "execution_count": 49,
   "metadata": {},
   "outputs": [
    {
     "name": "stdout",
     "output_type": "stream",
     "text": [
      "^NDX current price: 20852.94 (01/02/25 12:45:14)\n",
      "\n",
      "K=21000\n",
      "Above: 8.77%\n",
      "Below: 91.23%\n",
      "\n",
      "K=21200\n",
      "Above: 0.07%\n",
      "Below: 99.93%\n",
      "\n",
      "K=21400\n",
      "Above: 0.00%\n",
      "Below: 100.00%\n",
      "\n",
      "K=21600\n",
      "Above: 0.00%\n",
      "Below: 100.00%\n",
      "\n",
      "Hours to T: 3.245 (close=16)\n",
      "\n",
      "Daily Vol:       1.266%, (S0 +/- 264.05)\n",
      "Historical Vol:  20.10%\n",
      "GARCH Vol:       19.77%\n",
      "VIX:             17.99\n"
     ]
    }
   ],
   "source": [
    "ticker = '^NDX'\n",
    "\n",
    "K = [\n",
    "    21000,\n",
    "    21200,\n",
    "    21400,\n",
    "    21600\n",
    "]\n",
    "\n",
    "print(f\"{ticker} current price: {price(ticker):.2f} ({datetime.now():%D %T})\\n\")\n",
    "\n",
    "for k in K:\n",
    "    print(f\"K={k}\")\n",
    "    main(ticker, k, ttt=ttt, print_ttt=False)\n",
    "    print()\n",
    "\n",
    "main(print_ttt=True)  \n",
    "\n",
    "print()\n",
    "main(ticker, abbrev=True, info_only=True)"
   ]
  },
  {
   "cell_type": "code",
   "execution_count": 50,
   "metadata": {},
   "outputs": [
    {
     "name": "stdout",
     "output_type": "stream",
     "text": [
      "BTC-USD current price: 96542.96 (01/02/25 12:45:18)\n",
      "\n",
      "K=96000\n",
      "Above: 99.72%\n",
      "Below: 0.28%\n",
      "\n",
      "K=96500\n",
      "Above: 58.38%\n",
      "Below: 41.62%\n",
      "\n",
      "K=97000\n",
      "Above: 0.84%\n",
      "Below: 99.16%\n",
      "\n",
      "Hours to T: 3.244 (close=16)\n",
      "\n",
      "Daily Vol:       2.364%, (S0 +/- 2281.96)\n",
      "Historical Vol:  37.53%\n",
      "VIX:             17.99\n"
     ]
    }
   ],
   "source": [
    "ticker = \"BTC-USD\"\n",
    "\n",
    "close = datetime.now().hour + 1\n",
    "\n",
    "K = [\n",
    "    96000,\n",
    "    96500,\n",
    "    97000\n",
    "]\n",
    "\n",
    "print(f\"{ticker} current price: {cryptoprice():.2f} ({datetime.now():%D %T})\\n\")\n",
    "\n",
    "for k in K:\n",
    "    print(f\"K={k}\")\n",
    "    main(ticker, k, ttt=ttt, close=close, print_ttt=False)\n",
    "    print()\n",
    "\n",
    "main(print_ttt=True)\n",
    "\n",
    "print()\n",
    "main(ticker, info_only=True)\n"
   ]
  },
  {
   "cell_type": "code",
   "execution_count": 51,
   "metadata": {},
   "outputs": [
    {
     "name": "stdout",
     "output_type": "stream",
     "text": [
      "ETH-USD current price: 3442.90 (01/02/25 12:45:22)\n",
      "\n",
      "K=3400\n",
      "Above: 100.00%\n",
      "Below: 0.00%\n",
      "\n",
      "K=3450\n",
      "Above: 23.07%\n",
      "Below: 76.93%\n",
      "\n",
      "K=3500\n",
      "Above: 0.00%\n",
      "Below: 100.00%\n",
      "\n",
      "Hours to T: 0.243 (close=13)\n",
      "\n",
      "Daily Vol:       3.315%, (S0 +/- 114.13)\n",
      "Historical Vol:  52.63%\n",
      "VIX:             18.06\n"
     ]
    }
   ],
   "source": [
    "ticker = \"ETH-USD\"\n",
    "\n",
    "close = datetime.now().hour + 1\n",
    "\n",
    "K = [\n",
    "    3400,\n",
    "    3450,\n",
    "    3500\n",
    "]\n",
    "\n",
    "print(f\"{ticker} current price: {cryptoprice('ETH'):.2f} ({datetime.now():%D %T})\\n\")\n",
    "\n",
    "for k in K:\n",
    "    print(f\"K={k}\")\n",
    "    main(ticker, k, ttt=ttt, close=close, print_ttt=False)\n",
    "    print()\n",
    "\n",
    "main(close=close, print_ttt=True)\n",
    "\n",
    "print()\n",
    "main(ticker, info_only=True)"
   ]
  }
 ],
 "metadata": {
  "kernelspec": {
   "display_name": "Python 3",
   "language": "python",
   "name": "python3"
  },
  "language_info": {
   "codemirror_mode": {
    "name": "ipython",
    "version": 3
   },
   "file_extension": ".py",
   "mimetype": "text/x-python",
   "name": "python",
   "nbconvert_exporter": "python",
   "pygments_lexer": "ipython3",
   "version": "3.10.12"
  }
 },
 "nbformat": 4,
 "nbformat_minor": 2
}
