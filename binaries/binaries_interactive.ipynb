{
 "cells": [
  {
   "cell_type": "markdown",
   "metadata": {},
   "source": [
    "$$\n",
    "C_K(., T) = \\mathbb{E} [\\max(S-K,\\ 0)]\n",
    "$$\n",
    "\n",
    "$$\n",
    "C_K = \\int_{K}^{\\infty} (S-K)\\ \\phi(S) dS \n",
    "$$\n",
    "\n",
    "$$\n",
    "S_T = S_{t_0} \\exp{\\left[\\left(\\mu - \\frac{1}{2} \\sigma^2 \\right)t + \\sigma \\sqrt{t}\\, Z \\right]}\n",
    "$$\n",
    "\n",
    "$ Z \\sim \\mathbf{N}(0,1)$"
   ]
  },
  {
   "cell_type": "markdown",
   "metadata": {},
   "source": [
    "TODO: Figure out how to apply vega-weighted skew approximation for volatility.\n",
    "\n",
    "$$\n",
    "\\sigma_1 \\approx \\sigma_0 + \\frac{\\partial \\sigma}{\\partial S} (S_1 - S_0),\n",
    "$$\n",
    "\n",
    "$$\n",
    "\\sigma_1 \\approx \\sigma_0 \\left( 1 + \\rho \\frac{S_1 - S_0}{S_0}  \\right).\n",
    "$$\n",
    "\n",
    "$ \\rho \\approx -0.7 $"
   ]
  },
  {
   "cell_type": "code",
   "execution_count": 1,
   "metadata": {},
   "outputs": [
    {
     "data": {
      "text/plain": [
       "0.21400000000000002"
      ]
     },
     "execution_count": 1,
     "metadata": {},
     "output_type": "execute_result"
    }
   ],
   "source": [
    "sigma0 = 0.2\n",
    "rho = -7.0    # correlation between security price and volatility\n",
    "s0 = 6000\n",
    "s1 = s0 * 0.99\n",
    "\n",
    "sigma1 = sigma0 * (1 + rho*(s1 - s0)/s0)\n",
    "\n",
    "sigma1"
   ]
  },
  {
   "cell_type": "code",
   "execution_count": 2,
   "metadata": {},
   "outputs": [
    {
     "name": "stdout",
     "output_type": "stream",
     "text": [
      "^GSPC current price: 6066.96 (01/29/25 09:22:52)\n",
      "\n",
      "Daily Vol:       0.916%, (S0 +/- 55.55)\n",
      "Historical Vol:  14.53%\n",
      "GARCH Vol:       15.16%\n",
      "VIX:             16.71\n"
     ]
    }
   ],
   "source": [
    "from main import *\n",
    "from binaries import *\n",
    "\n",
    "tau = None\n",
    "\n",
    "ticker = \"^GSPC\"\n",
    "print(f\"{ticker} current price: {price(ticker):.2f} ({datetime.now():%D %T})\\n\")\n",
    "main(info_only=True, tau=tau)"
   ]
  },
  {
   "cell_type": "code",
   "execution_count": 10,
   "metadata": {},
   "outputs": [
    {
     "name": "stdout",
     "output_type": "stream",
     "text": [
      "^GSPC current price: 6066.96 (01/29/25 09:25:28)\n",
      "\n",
      "K=5950\n",
      "Above: 100.00%\n",
      "Below: 0.00%\n",
      "\n",
      "K=5975\n",
      "Above: 99.93%\n",
      "Below: 0.07%\n",
      "\n",
      "K=6000\n",
      "Above: 99.08%\n",
      "Below: 0.92%\n",
      "\n",
      "K=6125\n",
      "Above: 1.70%\n",
      "Below: 98.30%\n",
      "\n",
      "K=6150\n",
      "Above: 0.11%\n",
      "Below: 99.89%\n",
      "\n",
      "Hours to T: 6.575 (close=16)\n"
     ]
    }
   ],
   "source": [
    "ticker = '^GSPC'\n",
    "\n",
    "K = [\n",
    "    5950,\n",
    "    5975,\n",
    "    6000,\n",
    "    6125,\n",
    "    6150,\n",
    "]\n",
    "\n",
    "print(f\"{ticker} current price: {price(ticker):.2f} ({datetime.now():%D %T})\\n\")\n",
    "\n",
    "\n",
    "for k in K:\n",
    "    print(f\"K={k}\")\n",
    "    main(ticker, k, tau=tau, print_tau=False)\n",
    "    print()\n",
    "\n",
    "main(print_tau=True)    "
   ]
  },
  {
   "cell_type": "code",
   "execution_count": 4,
   "metadata": {},
   "outputs": [],
   "source": [
    "# ticker = '^NDX'\n",
    "\n",
    "# K = [\n",
    "#     21000,\n",
    "#     21200,\n",
    "#     21400,\n",
    "#     21600\n",
    "# ]\n",
    "\n",
    "# print(f\"{ticker} current price: {price(ticker):.2f} ({datetime.now():%D %T})\\n\")\n",
    "\n",
    "# for k in K:\n",
    "#     print(f\"K={k}\")\n",
    "#     main(ticker, k, tau=tau, print_tau=False)\n",
    "#     print()\n",
    "\n",
    "# main(print_tau=True)  \n",
    "\n",
    "# print()\n",
    "# main(ticker, abbrev=True, info_only=True)"
   ]
  },
  {
   "cell_type": "code",
   "execution_count": 5,
   "metadata": {},
   "outputs": [],
   "source": [
    "# ticker = \"BTC-USD\"\n",
    "\n",
    "# close = datetime.now().hour + 1\n",
    "\n",
    "# K = [\n",
    "#     96000,\n",
    "#     96500,\n",
    "#     97000\n",
    "# ]\n",
    "\n",
    "# print(f\"{ticker} current price: {cryptoprice():.2f} ({datetime.now():%D %T})\\n\")\n",
    "\n",
    "# for k in K:\n",
    "#     print(f\"K={k}\")\n",
    "#     main(ticker, k, tau=tau, close=close, print_tau=False)\n",
    "#     print()\n",
    "\n",
    "# main(close=close, print_tau=True)\n",
    "\n",
    "# print()\n",
    "# main(ticker, info_only=True)\n"
   ]
  },
  {
   "cell_type": "code",
   "execution_count": 6,
   "metadata": {},
   "outputs": [],
   "source": [
    "# ticker = \"ETH-USD\"\n",
    "\n",
    "# close = datetime.now().hour + 1\n",
    "\n",
    "# K = [\n",
    "#     3400,\n",
    "#     3450,\n",
    "#     3500\n",
    "# ]\n",
    "\n",
    "# print(f\"{ticker} current price: {cryptoprice('ETH'):.2f} ({datetime.now():%D %T})\\n\")\n",
    "\n",
    "# for k in K:\n",
    "#     print(f\"K={k}\")\n",
    "#     main(ticker, k, tau=tau, close=close, print_tau=False)\n",
    "#     print()\n",
    "\n",
    "# main(close=close, print_tau=True)\n",
    "\n",
    "# print()\n",
    "# main(ticker, info_only=True)"
   ]
  },
  {
   "cell_type": "code",
   "execution_count": 7,
   "metadata": {},
   "outputs": [],
   "source": [
    "# from binaries import get_VoV, stochastic_vol\n",
    "\n",
    "\n",
    "# print(get_VoV())\n",
    "\n",
    "# sigma = price('^VIX') / 100\n",
    "# stochastic_vol(sigma)"
   ]
  }
 ],
 "metadata": {
  "kernelspec": {
   "display_name": "Python 3",
   "language": "python",
   "name": "python3"
  },
  "language_info": {
   "codemirror_mode": {
    "name": "ipython",
    "version": 3
   },
   "file_extension": ".py",
   "mimetype": "text/x-python",
   "name": "python",
   "nbconvert_exporter": "python",
   "pygments_lexer": "ipython3",
   "version": "3.10.12"
  }
 },
 "nbformat": 4,
 "nbformat_minor": 2
}
