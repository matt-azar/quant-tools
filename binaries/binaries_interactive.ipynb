{
 "cells": [
  {
   "cell_type": "code",
   "execution_count": 1,
   "metadata": {},
   "outputs": [
    {
     "name": "stdout",
     "output_type": "stream",
     "text": [
      "^GSPC current price: 5884.01 (01/02/25 08:40:27)\n",
      "\n",
      "Daily Vol:       0.925%, (S0 +/- 54.41)\n",
      "Historical Vol:  14.68%\n",
      "GARCH Vol:       15.37%\n",
      "VIX:             17.23\n"
     ]
    }
   ],
   "source": [
    "from main import *\n",
    "\n",
    "ttt = None\n",
    "\n",
    "ticker = \"^GSPC\"\n",
    "print(f\"{ticker} current price: {price(ticker):.2f} ({datetime.now():%D %T})\\n\")\n",
    "main(ticker, 0, abbrev=True, info_only=True, ttt=ttt)"
   ]
  },
  {
   "cell_type": "code",
   "execution_count": 2,
   "metadata": {},
   "outputs": [
    {
     "name": "stdout",
     "output_type": "stream",
     "text": [
      "^GSPC current price: 5884.01 (01/02/25 08:40:27)\n",
      "\n",
      "K=5800\n",
      "Above: 99.80%\n",
      "Below: 0.20%\n",
      "Hours to T: 7.326 (close=16)\n",
      "\n",
      "K=5950\n",
      "Above: 1.24%\n",
      "Below: 98.76%\n",
      "Hours to T: 7.325 (close=16)\n"
     ]
    }
   ],
   "source": [
    "ticker = '^GSPC'\n",
    "\n",
    "K1 = 5850 -50\n",
    "K2 = 6000 - 50\n",
    "\n",
    "print(f\"{ticker} current price: {price(ticker):.2f} ({datetime.now():%D %T})\\n\")\n",
    "\n",
    "print(f\"K={K1}\")\n",
    "main(ticker, K1, abbrev=True, ttt=ttt)\n",
    "print()\n",
    "print(f\"K={K2}\")\n",
    "main(ticker, K2, abbrev=True, ttt=ttt)"
   ]
  },
  {
   "cell_type": "code",
   "execution_count": 8,
   "metadata": {},
   "outputs": [
    {
     "name": "stdout",
     "output_type": "stream",
     "text": [
      "^NDX current price: 21019.09 (01/02/25 08:41:22)\n",
      "\n",
      "K=20700\n",
      "Above: 97.93%\n",
      "Below: 2.07%\n",
      "Hours to T: 7.311 (close=16)\n",
      "\n",
      "K=21300\n",
      "Above: 3.70%\n",
      "Below: 96.30%\n",
      "Hours to T: 7.310 (close=16)\n",
      "\n",
      "Daily Vol:       1.289%, (S0 +/- 270.92)\n",
      "Historical Vol:  20.46%\n",
      "GARCH Vol:       19.77%\n",
      "VIX:             17.22\n"
     ]
    }
   ],
   "source": [
    "ticker = '^NDX'\n",
    "\n",
    "K1 = 20_700\n",
    "K2 = 21_300\n",
    "\n",
    "print(f\"{ticker} current price: {price(ticker):.2f} ({datetime.now():%D %T})\\n\")\n",
    "\n",
    "print(f\"K={K1}\")\n",
    "main(ticker, K1, abbrev=True, ttt=ttt)\n",
    "print()\n",
    "print(f\"K={K2}\")\n",
    "main(ticker, K2, abbrev=True, ttt=ttt)\n",
    "\n",
    "print()\n",
    "main(ticker, K2, abbrev=True, info_only=True)"
   ]
  },
  {
   "cell_type": "code",
   "execution_count": 10,
   "metadata": {},
   "outputs": [
    {
     "name": "stdout",
     "output_type": "stream",
     "text": [
      "BTC-USD current price: 96577.63 (01/02/25 08:43:27)\n",
      "\n",
      "Daily Vol:       2.370%, (S0 +/- 2289.01)\n",
      "Historical Vol:  37.62%\n",
      "VIX:             17.19\n",
      "\n",
      "K=96000\n",
      "Above: 99.74%\n",
      "Below: 0.26%\n",
      "Hours to T: 0.276 (close=9)\n",
      "\n",
      "K=97000\n",
      "Above: 2.16%\n",
      "Below: 97.84%\n",
      "Hours to T: 0.275 (close=9)\n"
     ]
    }
   ],
   "source": [
    "ticker = \"BTC-USD\"\n",
    "\n",
    "K1 = 96000\n",
    "K2 = 97000\n",
    "close = datetime.now().hour + 1\n",
    "\n",
    "print(f\"{ticker} current price: {cryptoprice():.2f} ({datetime.now():%D %T})\")\n",
    "\n",
    "print()\n",
    "main(ticker, 0, True, True)\n",
    "print()\n",
    "\n",
    "print(f\"K={K1}\")\n",
    "main(ticker, K1, abbrev=True, ttt=ttt, close=close)\n",
    "print()\n",
    "print(f\"K={K2}\")\n",
    "main(ticker, K2, abbrev=True, ttt=ttt, close=close)\n"
   ]
  },
  {
   "cell_type": "code",
   "execution_count": 11,
   "metadata": {},
   "outputs": [
    {
     "name": "stdout",
     "output_type": "stream",
     "text": [
      "ETH-USD current price: 3467.65 (01/02/25 08:44:06)\n",
      "\n",
      "Daily Vol:       3.333%, (S0 +/- 115.59)\n",
      "Historical Vol:  52.92%\n",
      "VIX:             17.19\n",
      "\n",
      "K=3450\n",
      "Above: 95.69%\n",
      "Below: 4.31%\n",
      "Hours to T: 0.265 (close=9)\n",
      "\n",
      "K=3500\n",
      "Above: 0.08%\n",
      "Below: 99.92%\n",
      "Hours to T: 0.264 (close=9)\n"
     ]
    }
   ],
   "source": [
    "ticker = \"ETH-USD\"\n",
    "\n",
    "K1 = 3450\n",
    "K2 = 3500\n",
    "close = datetime.now().hour + 1\n",
    "\n",
    "print(f\"{ticker} current price: {cryptoprice('ETH'):.2f} ({datetime.now():%D %T})\")\n",
    "\n",
    "print()\n",
    "main(ticker, 0, True, True)\n",
    "print()\n",
    "\n",
    "print(f\"K={K1}\")\n",
    "main(ticker, K1, abbrev=True, ttt=ttt, close=close)\n",
    "print()\n",
    "print(f\"K={K2}\")\n",
    "main(ticker, K2, abbrev=True, ttt=ttt, close=close)\n"
   ]
  }
 ],
 "metadata": {
  "kernelspec": {
   "display_name": "Python 3",
   "language": "python",
   "name": "python3"
  },
  "language_info": {
   "codemirror_mode": {
    "name": "ipython",
    "version": 3
   },
   "file_extension": ".py",
   "mimetype": "text/x-python",
   "name": "python",
   "nbconvert_exporter": "python",
   "pygments_lexer": "ipython3",
   "version": "3.10.12"
  }
 },
 "nbformat": 4,
 "nbformat_minor": 2
}
