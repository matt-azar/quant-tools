{
 "cells": [
  {
   "cell_type": "code",
   "execution_count": 1,
   "metadata": {},
   "outputs": [
    {
     "name": "stdout",
     "output_type": "stream",
     "text": [
      "^GSPC (12/30/24 22:05:39)\n",
      "Daily Vol:       0.947%, (S0 +/- 55.97)\n",
      "Historical Vol:  15.04%\n",
      "GARCH Vol:       16.01%\n",
      "VIX:             17.40\n"
     ]
    }
   ],
   "source": [
    "from binaries import *\n",
    "from main import main\n",
    "\n",
    "ticker = \"^GSPC\"\n",
    "print(f\"{ticker} ({datetime.now():%D %T})\")\n",
    "main(ticker, 0, abbrev=True, info_only=True)"
   ]
  },
  {
   "cell_type": "code",
   "execution_count": 8,
   "metadata": {},
   "outputs": [
    {
     "name": "stdout",
     "output_type": "stream",
     "text": [
      "^GSPC current price: 5907.43 (12/30/24 22:47:37)\n",
      "\n",
      "K=5800\n",
      "Above: 99.77%, Below: 0.23%\n",
      "\n",
      "K=5950\n",
      "Above: 13.35%, Below: 86.65%\n"
     ]
    }
   ],
   "source": [
    "ticker = '^GSPC'\n",
    "\n",
    "ttt = 0.5 / 365\n",
    "\n",
    "K1 = 5800\n",
    "K2 = 5950\n",
    "\n",
    "print(f\"{ticker} current price: {price(ticker):.2f} ({datetime.now():%D %T})\\n\")\n",
    "\n",
    "print(f\"K={K1}\")\n",
    "main(ticker, K1, abbrev=True, ttt=ttt)\n",
    "print()\n",
    "print(f\"K={K2}\")\n",
    "main(ticker, K2, abbrev=True, ttt=ttt)"
   ]
  },
  {
   "cell_type": "code",
   "execution_count": 3,
   "metadata": {},
   "outputs": [
    {
     "name": "stdout",
     "output_type": "stream",
     "text": [
      "^NDX current price: 21193.42 (12/30/24 22:05:45)\n",
      "\n",
      "K=21473.02\n",
      "Above: 8.69%, Below: 91.31%\n",
      "\n",
      "K=21600\n",
      "Above: 2.38%, Below: 97.62%\n",
      "\n",
      "Daily Vol:       1.309%, (S0 +/- 277.33)\n",
      "Historical Vol:  20.77%\n",
      "GARCH Vol:       20.23%\n",
      "VIX:             17.40\n",
      "1.5*VIX:\t 26.10\n"
     ]
    }
   ],
   "source": [
    "ticker = '^NDX'\n",
    "\n",
    "K1 = 21_473.02\n",
    "K2 = 21_600\n",
    "\n",
    "print(f\"{ticker} current price: {price(ticker):.2f} ({datetime.now():%D %T})\\n\")\n",
    "\n",
    "print(f\"K={K1}\")\n",
    "main(ticker, K1, abbrev=True, ttt=ttt)\n",
    "print()\n",
    "print(f\"K={K2}\")\n",
    "main(ticker, K2, abbrev=True, ttt=ttt)\n",
    "\n",
    "print()\n",
    "main(ticker, K2, abbrev=True, info_only=True)\n",
    "print(f\"1.5*VIX:\\t {price('^VIX') * 1.5:.2f}\")"
   ]
  },
  {
   "cell_type": "code",
   "execution_count": 4,
   "metadata": {},
   "outputs": [],
   "source": [
    "#TODO test blackscholes vs bachelier after modification to formulae"
   ]
  }
 ],
 "metadata": {
  "kernelspec": {
   "display_name": "Python 3",
   "language": "python",
   "name": "python3"
  },
  "language_info": {
   "codemirror_mode": {
    "name": "ipython",
    "version": 3
   },
   "file_extension": ".py",
   "mimetype": "text/x-python",
   "name": "python",
   "nbconvert_exporter": "python",
   "pygments_lexer": "ipython3",
   "version": "3.10.12"
  }
 },
 "nbformat": 4,
 "nbformat_minor": 2
}
