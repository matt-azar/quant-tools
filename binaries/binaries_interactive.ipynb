{
 "cells": [
  {
   "cell_type": "code",
   "execution_count": 1,
   "metadata": {},
   "outputs": [
    {
     "name": "stdout",
     "output_type": "stream",
     "text": [
      "^GSPC current price: 5884.01 (01/01/25 14:00:24)\n",
      "\n",
      "Daily Vol:       0.925%, (S0 +/- 54.41)\n",
      "Historical Vol:  14.68%\n",
      "GARCH Vol:       15.37%\n"
     ]
    }
   ],
   "source": [
    "from main import *\n",
    "\n",
    "ttt = None\n",
    "\n",
    "ticker = \"^GSPC\"\n",
    "print(f\"{ticker} current price: {price(ticker):.2f} ({datetime.now():%D %T})\\n\")\n",
    "main(ticker, 0, abbrev=True, info_only=True, ttt=ttt)"
   ]
  },
  {
   "cell_type": "code",
   "execution_count": 2,
   "metadata": {},
   "outputs": [
    {
     "name": "stdout",
     "output_type": "stream",
     "text": [
      "^GSPC current price: 5884.01 (01/01/25 14:00:24)\n",
      "\n",
      "K=5850\n",
      "Above: 99.37%, Below: 0.63%\n",
      "\n",
      "K=5875\n",
      "Above: 74.68%, Below: 25.32%\n"
     ]
    }
   ],
   "source": [
    "ticker = '^GSPC'\n",
    "\n",
    "K1 = 5850\n",
    "K2 = 5875\n",
    "\n",
    "print(f\"{ticker} current price: {price(ticker):.2f} ({datetime.now():%D %T})\\n\")\n",
    "\n",
    "print(f\"K={K1}\")\n",
    "main(ticker, K1, abbrev=True, ttt=ttt)\n",
    "print()\n",
    "print(f\"K={K2}\")\n",
    "main(ticker, K2, abbrev=True, ttt=ttt)"
   ]
  },
  {
   "cell_type": "code",
   "execution_count": 3,
   "metadata": {},
   "outputs": [
    {
     "name": "stdout",
     "output_type": "stream",
     "text": [
      "^NDX current price: 21019.09 (01/01/25 14:00:25)\n",
      "\n",
      "K=21473.02\n",
      "Above: 0.00%, Below: 100.00%\n",
      "\n",
      "K=21600\n",
      "Above: 0.00%, Below: 100.00%\n",
      "\n",
      "Daily Vol:       1.289%, (S0 +/- 270.92)\n",
      "Historical Vol:  20.46%\n",
      "GARCH Vol:       19.77%\n"
     ]
    }
   ],
   "source": [
    "ticker = '^NDX'\n",
    "\n",
    "K1 = 21_473.02\n",
    "K2 = 21_600\n",
    "\n",
    "print(f\"{ticker} current price: {price(ticker):.2f} ({datetime.now():%D %T})\\n\")\n",
    "\n",
    "print(f\"K={K1}\")\n",
    "main(ticker, K1, abbrev=True, ttt=ttt)\n",
    "print()\n",
    "print(f\"K={K2}\")\n",
    "main(ticker, K2, abbrev=True, ttt=ttt)\n",
    "\n",
    "print()\n",
    "main(ticker, K2, abbrev=True, info_only=True)"
   ]
  },
  {
   "cell_type": "code",
   "execution_count": 8,
   "metadata": {},
   "outputs": [
    {
     "name": "stdout",
     "output_type": "stream",
     "text": [
      "BTC-USD current price: 94062.11 (01/01/25 14:01:52)\n",
      "\n",
      "Daily Vol:       2.343%, (S0 +/- 2203.96)\n",
      "Historical Vol:  37.20%\n",
      "\n",
      "K=93500\n",
      "Above: 93.68%, Below: 6.32%\n",
      "Minutes to T: 58.114\n",
      "\n",
      "K=94500\n",
      "Above: 11.74%, Below: 88.26%\n",
      "Minutes to T: 58.104\n"
     ]
    }
   ],
   "source": [
    "ticker = \"BTC-USD\"\n",
    "\n",
    "K1 = 93500\n",
    "K2 = 94500\n",
    "close = 15\n",
    "\n",
    "print(f\"{ticker} current price: {cryptoprice():.2f} ({datetime.now():%D %T})\")\n",
    "\n",
    "print()\n",
    "main(ticker, 0, True, True)\n",
    "print()\n",
    "\n",
    "print(f\"K={K1}\")\n",
    "main(ticker, K1, abbrev=True, ttt=ttt, close=close)\n",
    "print()\n",
    "print(f\"K={K2}\")\n",
    "main(ticker, K2, abbrev=True, ttt=ttt, close=close)\n"
   ]
  },
  {
   "cell_type": "code",
   "execution_count": 10,
   "metadata": {},
   "outputs": [
    {
     "name": "stdout",
     "output_type": "stream",
     "text": [
      "ETH-USD current price: 3340.79 (01/01/25 14:02:39)\n",
      "\n",
      "Daily Vol:       3.279%, (S0 +/- 109.54)\n",
      "Historical Vol:  52.05%\n",
      "\n",
      "K=3330\n",
      "Above: 71.39%, Below: 28.61%\n",
      "Minutes to T: 57.323\n",
      "\n",
      "K=3350\n",
      "Above: 29.57%, Below: 70.43%\n",
      "Minutes to T: 57.311\n"
     ]
    }
   ],
   "source": [
    "ticker = \"ETH-USD\"\n",
    "\n",
    "K1 = 3330\n",
    "K2 = 3350\n",
    "close = 15\n",
    "\n",
    "print(f\"{ticker} current price: {cryptoprice('ETH'):.2f} ({datetime.now():%D %T})\")\n",
    "\n",
    "print()\n",
    "main(ticker, 0, True, True)\n",
    "print()\n",
    "\n",
    "print(f\"K={K1}\")\n",
    "main(ticker, K1, abbrev=True, ttt=ttt, close=close)\n",
    "print()\n",
    "print(f\"K={K2}\")\n",
    "main(ticker, K2, abbrev=True, ttt=ttt, close=close)\n"
   ]
  }
 ],
 "metadata": {
  "kernelspec": {
   "display_name": "Python 3",
   "language": "python",
   "name": "python3"
  },
  "language_info": {
   "codemirror_mode": {
    "name": "ipython",
    "version": 3
   },
   "file_extension": ".py",
   "mimetype": "text/x-python",
   "name": "python",
   "nbconvert_exporter": "python",
   "pygments_lexer": "ipython3",
   "version": "3.10.12"
  }
 },
 "nbformat": 4,
 "nbformat_minor": 2
}
