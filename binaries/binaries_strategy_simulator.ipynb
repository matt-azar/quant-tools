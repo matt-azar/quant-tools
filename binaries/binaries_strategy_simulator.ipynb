{
 "cells": [
  {
   "cell_type": "code",
   "execution_count": null,
   "metadata": {},
   "outputs": [],
   "source": [
    "from binaries import *"
   ]
  },
  {
   "cell_type": "code",
   "execution_count": 149,
   "metadata": {},
   "outputs": [],
   "source": [
    "# apy = get_apy(\n",
    "#     # ttt = get_ttt(\n",
    "#     #     T = get_T(\n",
    "#     #         year  = 2024,\n",
    "#     #         month = 11,\n",
    "#     #         day   = 14,\n",
    "#     #         hour  = 16\n",
    "#     #     )\n",
    "#     # ),\n",
    "#     ttt = 50 * DAYS,\n",
    "#     at_risk = 96\n",
    "# )\n",
    "\n",
    "# print(f\"{apy:.3f}\")"
   ]
  },
  {
   "cell_type": "code",
   "execution_count": 150,
   "metadata": {},
   "outputs": [],
   "source": [
    "# from time import time, sleep\n",
    "\n",
    "# ticker = '^GSPC' # SP500\n",
    "# # ticker = '^NDX' # NASDAQ\n",
    "\n",
    "# # returns = get_1y_prices(ticker)\n",
    "# # volatility = calculate_volatility(returns)\n",
    "\n",
    "# start = time()\n",
    "# now = 0\n",
    "# c = 0\n",
    "# duration = 5 * MINUTES\n",
    "# period = 1 * MINUTES\n",
    "# while now - start < duration:\n",
    "#     S0 = get_price(ticker)\n",
    "#     sigma = get_price('^VIX') / 100\n",
    "#     # K = 5900\n",
    "#     call_price = 0.5\n",
    "#     print(ticker)\n",
    "#     p_above = print_P_above(S0, K, sigma, T)\n",
    "#     print()\n",
    "#     value = get_value(p_above, call_price)\n",
    "#     print(\"Profit:\", round(value, 4))\n",
    "#     sleep(period)\n",
    "#     now = time()\n",
    "#     c += 1\n",
    "# print(c)"
   ]
  },
  {
   "cell_type": "code",
   "execution_count": 152,
   "metadata": {},
   "outputs": [],
   "source": [
    "# from random import random\n",
    "\n",
    "# t = 10_000\n",
    "# days = 252\n",
    "\n",
    "# h = []\n",
    "\n",
    "# risk = 0.25\n",
    "# profit_margin = 0.01\n",
    "# fees = 0.07\n",
    "# starting_balance = 100\n",
    "\n",
    "# for _ in range(t):\n",
    "#     balance = starting_balance\n",
    "#     for _ in range(days):\n",
    "#         VaR = risk * balance\n",
    "#         x = random()\n",
    "#         if x < 0.5 / 100:\n",
    "#             balance -= VaR\n",
    "#             if balance <= 0:\n",
    "#                 h += [0]\n",
    "#                 break\n",
    "#         else:\n",
    "#             balance += profit_margin * VaR * (1 - fees)\n",
    "#     h += [round(balance, 3)]\n",
    "\n",
    "# q10 = np.quantile(h, 0.1)\n",
    "# q25 = np.quantile(h, 0.25)\n",
    "# q50 = np.quantile(h, 0.5)\n",
    "# q75 = np.quantile(h, 0.75)\n",
    "# q90 = np.quantile(h, 0.9)\n",
    "\n",
    "# hl = list(set(h))\n",
    "# hl.sort()\n",
    "# print(len(hl), hl)\n",
    "# print()\n",
    "\n",
    "# print(\"Mean:\\t\\t\", round(np.mean(h),3))\n",
    "# print(\"\\nMin:\\t\\t\", round(min(h),3))\n",
    "# print(\"10th quantile:\\t\", q10)\n",
    "# print(\"25th quantile:\\t\", q25)\n",
    "# print(\"50th quantile:\\t\", q50)\n",
    "# print(\"75th quantile:\\t\", q75)\n",
    "# print(\"90th quantile:\\t\", q90)\n",
    "# print(\"Max:\\t\\t\", round(max(h),3))"
   ]
  }
 ],
 "metadata": {
  "kernelspec": {
   "display_name": "Python 3",
   "language": "python",
   "name": "python3"
  },
  "language_info": {
   "codemirror_mode": {
    "name": "ipython",
    "version": 3
   },
   "file_extension": ".py",
   "mimetype": "text/x-python",
   "name": "python",
   "nbconvert_exporter": "python",
   "pygments_lexer": "ipython3",
   "version": "3.10.12"
  }
 },
 "nbformat": 4,
 "nbformat_minor": 2
}
