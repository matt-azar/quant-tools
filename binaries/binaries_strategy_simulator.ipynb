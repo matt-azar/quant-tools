{
 "cells": [
  {
   "cell_type": "code",
   "execution_count": 6,
   "metadata": {},
   "outputs": [],
   "source": [
    "from binaries import *\n",
    "from qftools import *\n",
    "from random import random"
   ]
  },
  {
   "cell_type": "code",
   "execution_count": 9,
   "metadata": {},
   "outputs": [
    {
     "name": "stdout",
     "output_type": "stream",
     "text": [
      "8 [23.579, 31.512, 42.113, 56.282, 75.217, 100.522, 134.342, 179.539]\n",
      "\n",
      "Mean:\t\t 130.681\n",
      "\n",
      "Min:\t\t 23.579\n",
      "10th quantile:\t 75.217\n",
      "25th quantile:\t 100.522\n",
      "50th quantile:\t 134.342\n",
      "75th quantile:\t 179.539\n",
      "90th quantile:\t 179.539\n",
      "Max:\t\t 179.539\n"
     ]
    }
   ],
   "source": [
    "t = 10_000\n",
    "days = 252\n",
    "\n",
    "h = []\n",
    "\n",
    "risk = 0.25\n",
    "profit_margin = 0.01\n",
    "fees = 0.07\n",
    "starting_balance = 100\n",
    "\n",
    "for _ in range(t):\n",
    "    balance = starting_balance\n",
    "    for _ in range(days):\n",
    "        VaR = risk * balance\n",
    "        x = random()\n",
    "        if x < 0.5 / 100:\n",
    "            balance -= VaR\n",
    "            if balance <= 0:\n",
    "                h += [0]\n",
    "                break\n",
    "        else:\n",
    "            balance += profit_margin * VaR * (1 - fees)\n",
    "    h += [round(balance, 3)]\n",
    "\n",
    "q10 = np.quantile(h, 0.1)\n",
    "q25 = np.quantile(h, 0.25)\n",
    "q50 = np.quantile(h, 0.5)\n",
    "q75 = np.quantile(h, 0.75)\n",
    "q90 = np.quantile(h, 0.9)\n",
    "\n",
    "hl = list(set(h))\n",
    "hl.sort()\n",
    "print(len(hl), hl)\n",
    "print()\n",
    "\n",
    "print(\"Mean:\\t\\t\", round(np.mean(h),3))\n",
    "print(\"\\nMin:\\t\\t\", round(min(h),3))\n",
    "print(\"10th quantile:\\t\", q10)\n",
    "print(\"25th quantile:\\t\", q25)\n",
    "print(\"50th quantile:\\t\", q50)\n",
    "print(\"75th quantile:\\t\", q75)\n",
    "print(\"90th quantile:\\t\", q90)\n",
    "print(\"Max:\\t\\t\", round(max(h),3))"
   ]
  }
 ],
 "metadata": {
  "kernelspec": {
   "display_name": "Python 3",
   "language": "python",
   "name": "python3"
  },
  "language_info": {
   "codemirror_mode": {
    "name": "ipython",
    "version": 3
   },
   "file_extension": ".py",
   "mimetype": "text/x-python",
   "name": "python",
   "nbconvert_exporter": "python",
   "pygments_lexer": "ipython3",
   "version": "3.10.12"
  }
 },
 "nbformat": 4,
 "nbformat_minor": 2
}
