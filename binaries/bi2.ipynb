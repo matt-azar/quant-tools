{
 "cells": [
  {
   "cell_type": "code",
   "execution_count": 1,
   "metadata": {},
   "outputs": [
    {
     "name": "stdout",
     "output_type": "stream",
     "text": [
      "^GSPC (12/30/24 12:42:59)\n",
      "Daily Vol:       0.932%, (S0 +/- 55.24)\n",
      "Historical Vol:  14.80%\n",
      "GARCH Vol:       15.86%\n",
      "VIX:             16.68\n"
     ]
    }
   ],
   "source": [
    "from binaries import *\n",
    "from main import main\n",
    "\n",
    "ticker = \"^GSPC\"\n",
    "print(f\"{ticker} ({datetime.now():%D %T})\")\n",
    "main(ticker, 2, abbrev=True, info_only=True)"
   ]
  },
  {
   "cell_type": "code",
   "execution_count": 5,
   "metadata": {},
   "outputs": [
    {
     "name": "stdout",
     "output_type": "stream",
     "text": [
      "^GSPC current price: 5930.43 (12/30/24 12:44:19)\n",
      "\n",
      "K=5975\n",
      "Above: 0.97%, Below: 99.03%\n",
      "\n",
      "K=6000\n",
      "Above: 0.01%, Below: 99.99%\n"
     ]
    }
   ],
   "source": [
    "ticker = '^GSPC'\n",
    "\n",
    "K1 = 5975\n",
    "K2 = 6000\n",
    "\n",
    "print(f\"{ticker} current price: {price(ticker):.2f} ({datetime.now():%D %T})\\n\")\n",
    "\n",
    "print(f\"K={K1}\")\n",
    "main(ticker, K1, abbrev=True)\n",
    "print()\n",
    "print(f\"K={K2}\")\n",
    "main(ticker, K2, abbrev=True)"
   ]
  },
  {
   "cell_type": "code",
   "execution_count": 3,
   "metadata": {},
   "outputs": [
    {
     "name": "stdout",
     "output_type": "stream",
     "text": [
      "^NDX current price: 21297.19 (12/30/24 12:43:01)\n",
      "\n",
      "K=21000\n",
      "Above: 99.80%, Below: 0.20%\n",
      "\n",
      "K=21600\n",
      "Above: 0.17%, Below: 99.83%\n"
     ]
    }
   ],
   "source": [
    "ticker = '^NDX'\n",
    "\n",
    "K1 = 21_000\n",
    "K2 = 21_600\n",
    "\n",
    "print(f\"{ticker} current price: {price(ticker):.2f} ({datetime.now():%D %T})\\n\")\n",
    "\n",
    "print(f\"K={K1}\")\n",
    "main(ticker, K1, abbrev=True)\n",
    "print()\n",
    "print(f\"K={K2}\")\n",
    "main(ticker, K2, abbrev=True)"
   ]
  }
 ],
 "metadata": {
  "kernelspec": {
   "display_name": "Python 3",
   "language": "python",
   "name": "python3"
  },
  "language_info": {
   "codemirror_mode": {
    "name": "ipython",
    "version": 3
   },
   "file_extension": ".py",
   "mimetype": "text/x-python",
   "name": "python",
   "nbconvert_exporter": "python",
   "pygments_lexer": "ipython3",
   "version": "3.10.12"
  }
 },
 "nbformat": 4,
 "nbformat_minor": 2
}
